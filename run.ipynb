{
 "cells": [
  {
   "cell_type": "code",
   "execution_count": 1,
   "id": "3d3b227b-4911-484f-a7fe-a130b1d09eb8",
   "metadata": {
    "tags": []
   },
   "outputs": [],
   "source": [
    "import shlex\n",
    "import subprocess\n",
    "\n",
    "import redis\n",
    "import rq"
   ]
  },
  {
   "cell_type": "code",
   "execution_count": 2,
   "id": "06e09a58-4aa4-458b-abd0-9e50918a860b",
   "metadata": {
    "tags": []
   },
   "outputs": [],
   "source": [
    "q = rq.Queue(connection=redis.Redis())"
   ]
  },
  {
   "cell_type": "code",
   "execution_count": 4,
   "id": "befaa50e-b78d-4c3c-8e57-e30057e72e7a",
   "metadata": {
    "tags": []
   },
   "outputs": [
    {
     "data": {
      "text/plain": [
       "Job('79568aec-140b-4e78-8501-7fe7a663d677', enqueued_at=datetime.datetime(2023, 4, 8, 22, 21, 32, 600826))"
      ]
     },
     "execution_count": 4,
     "metadata": {},
     "output_type": "execute_result"
    }
   ],
   "source": [
    "q.enqueue(\n",
    "    subprocess.run,\n",
    "    args=[\n",
    "        shlex.split(\n",
    "            \"python3 examples/run_expt.py --dataset camelyon17 --algorithm ERM --root_dir data --my_store dev --frac 0.01\"\n",
    "        )\n",
    "    ],\n",
    "    kwargs=dict(check=True, cwd=\"wilds\"),\n",
    ")"
   ]
  },
  {
   "cell_type": "code",
   "execution_count": 19,
   "id": "a50da2ce-a4f5-4cb0-b36a-b20c53803eef",
   "metadata": {
    "tags": []
   },
   "outputs": [
    {
     "name": "stdout",
     "output_type": "stream",
     "text": [
      "python3 examples/run_expt.py --dataset fmow --algorithm ERM --root_dir data --my_store 2023-04-08 --seed 0\n",
      "python3 examples/run_expt.py --dataset fmow --algorithm ERM --root_dir data --my_store 2023-04-08 --seed 1\n",
      "python3 examples/run_expt.py --dataset fmow --algorithm ERM --root_dir data --my_store 2023-04-08 --seed 2\n",
      "python3 examples/run_expt.py --dataset fmow --algorithm ERM --root_dir data --my_store 2023-04-08 --seed 3\n",
      "python3 examples/run_expt.py --dataset fmow --algorithm ERM --root_dir data --my_store 2023-04-08 --seed 4\n",
      "python3 examples/run_expt.py --dataset fmow --algorithm ERM --root_dir data --my_store 2023-04-08 --seed 5\n",
      "python3 examples/run_expt.py --dataset fmow --algorithm ERM --root_dir data --my_store 2023-04-08 --seed 6\n",
      "python3 examples/run_expt.py --dataset fmow --algorithm ERM --root_dir data --my_store 2023-04-08 --seed 7\n",
      "python3 examples/run_expt.py --dataset fmow --algorithm ERM --root_dir data --my_store 2023-04-08 --seed 8\n"
     ]
    }
   ],
   "source": [
    "for dataset in [\n",
    "    # \"camelyon17\",\n",
    "    # \"amazon\",\n",
    "    # \"civilcomments\",\n",
    "    # \"ogb-molpcba\",\n",
    "    # \"iwildcam\",\n",
    "    # \"py150\",\n",
    "    # \"fmow\",\n",
    "]:\n",
    "    for seed in range(9):\n",
    "        cmd = (\n",
    "            f\"python3 examples/run_expt.py\"\n",
    "            f\" --dataset {dataset}\"\n",
    "            f\" --algorithm ERM\"\n",
    "            f\" --root_dir data\"\n",
    "            f\" --my_store 2023-04-08\"\n",
    "            f\" --seed {seed}\"\n",
    "        )\n",
    "        print(cmd)\n",
    "        # q.enqueue(\n",
    "        #     subprocess.run,\n",
    "        #     args=[shlex.split(cmd)],\n",
    "        #     kwargs=dict(check=True, cwd=\"wilds\"),\n",
    "        #     job_timeout=86400,\n",
    "        #     result_ttl=86400,\n",
    "        # )"
   ]
  },
  {
   "cell_type": "code",
   "execution_count": null,
   "id": "16c21e3e-1f5b-417a-8c18-24dd840a8c70",
   "metadata": {},
   "outputs": [],
   "source": []
  }
 ],
 "metadata": {
  "kernelspec": {
   "display_name": "Python 3 (ipykernel)",
   "language": "python",
   "name": "python3"
  },
  "language_info": {
   "codemirror_mode": {
    "name": "ipython",
    "version": 3
   },
   "file_extension": ".py",
   "mimetype": "text/x-python",
   "name": "python",
   "nbconvert_exporter": "python",
   "pygments_lexer": "ipython3",
   "version": "3.10.8"
  }
 },
 "nbformat": 4,
 "nbformat_minor": 5
}
